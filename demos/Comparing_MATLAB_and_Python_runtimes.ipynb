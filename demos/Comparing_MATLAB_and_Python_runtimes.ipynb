{
 "cells": [
  {
   "cell_type": "markdown",
   "metadata": {},
   "source": [
    "\n",
    "# <span style=\"color:rgb(213,80,0)\">Comparing MATLAB and Python runtimes</span>\n",
    "\n",
    "One of the experiments in the CLASSIX paper [1] compares several clustering algorithms on the URI machine learning repository [2]. The Python code that generated these results, together with all the used hyperparameters, is available in the CLASSIX GitHub repository: [https://github.com/nla-group/classix/blob/master/exp/run_real_world.py](https://github.com/nla-group/classix/blob/master/exp/run_real_world.py)\n",
    "\n",
    "\n",
    "Here we use these datasets to compare the runtimes of the MATLAB and Python implementations of CLASSIX. For the MATLAB, we test two variants: (i) pure MATLAB implementation, and (ii) using MATLAB with the MEX file <samp>matxsubmat.c</samp> to speed up submatrix-times-vector products.\n",
    "\n",
    "\n",
    "Note that the below requires a working MATLAB-Python link.\n",
    ""
   ]
  },
  {
   "cell_type": "code",
   "execution_count": 1,
   "metadata": {},
   "source": [
    "clear all\n",
    "addpath ..\n",
    "%ari = @(a,b) py.sklearn.metrics.adjusted_rand_score(a,b);\n",
    "ari = @(a,b) rand_index(double(a),double(b),'adjusted');"
   ],
   "outputs": []
  },
  {
   "cell_type": "markdown",
   "metadata": {},
   "source": [
    "## Banknote dataset"
   ]
  },
  {
   "cell_type": "code",
   "execution_count": 2,
   "metadata": {},
   "source": [
    "ret = py.classix.loadData('Banknote');\n",
    "data = double(ret{1});\n",
    "labels = double(ret{2});\n",
    "% z-normalization used in https://github.com/nla-group/classix/blob/master/exp/run_real_world.py\n",
    "data = (data - mean(data))./std(data);\n",
    "\n",
    "% MATLAB CLASSIX\n",
    "no_mex = struct('use_mex',0);\n",
    "tic\n",
    "[label, explain, out] = classix(data,0.21,41,no_mex);\n",
    "fprintf('CLASSIX.M       runtime: %5.3f seconds - classes: %d - ARI: %3.2f\\n',...\n",
    "    toc,length(unique(label)),ari(labels,label))"
   ],
   "outputs": [
    {
     "data": {
      "text/plain": [
       "CLASSIX.M       runtime: 0.044 seconds - classes: 2 - ARI: 0.87"
      ]
     },
     "metadata": {},
     "execution_count":  2,
     "output_type": "execute_result"
    }
   ]
  },
  {
   "cell_type": "code",
   "execution_count": 3,
   "metadata": {},
   "source": [
    "% MATLAB CLASSIX (MEX)\n",
    "tic\n",
    "[label, explain, out] = classix(data,0.21,41);\n",
    "fprintf('CLASSIX.M (MEX) runtime: %5.3f seconds - classes: %d - ARI: %3.2f\\n',...\n",
    "    toc,length(unique(label)),ari(labels,label))"
   ],
   "outputs": [
    {
     "data": {
      "text/plain": [
       "CLASSIX.M (MEX) runtime: 0.031 seconds - classes: 2 - ARI: 0.87"
      ]
     },
     "metadata": {},
     "execution_count":  3,
     "output_type": "execute_result"
    }
   ]
  },
  {
   "cell_type": "code",
   "execution_count": 4,
   "metadata": {},
   "source": [
    "% Python CLASSIX\n",
    "tic\n",
    "clx = py.classix.CLASSIX(radius=0.21, verbose=0, minPts=int32(41));\n",
    "clx = clx.fit(data);\n",
    "fprintf('CLASSIX.PY      runtime: %5.3f seconds - classes: %d - ARI: %3.2f\\n',...\n",
    "    toc,length(unique(double(clx.labels_))),ari(labels,clx.labels_))"
   ],
   "outputs": [
    {
     "data": {
      "text/plain": [
       "CLASSIX.PY      runtime: 0.078 seconds - classes: 2 - ARI: 0.87"
      ]
     },
     "metadata": {},
     "execution_count":  4,
     "output_type": "execute_result"
    }
   ]
  },
  {
   "cell_type": "markdown",
   "metadata": {},
   "source": [
    "## Dermatology dataset"
   ]
  },
  {
   "cell_type": "code",
   "execution_count": 5,
   "metadata": {},
   "source": [
    "ret = py.classix.loadData('Dermatology');\n",
    "data = double(ret{1});\n",
    "data = data(:,1:33); % final column has NaN's?\n",
    "labels = double(ret{2});\n",
    "data = (data - mean(data))./std(data);\n",
    "\n",
    "% MATLAB CLASSIX\n",
    "tic\n",
    "[label, explain, out] = classix(data,0.4,4,no_mex);\n",
    "fprintf('CLASSIX.M       runtime: %5.3f seconds - classes: %d - ARI: %3.2f\\n',...\n",
    "    toc,length(unique(label)),ari(labels,label))"
   ],
   "outputs": [
    {
     "data": {
      "text/plain": [
       "CLASSIX.M       runtime: 0.019 seconds - classes: 6 - ARI: 0.45"
      ]
     },
     "metadata": {},
     "execution_count":  5,
     "output_type": "execute_result"
    }
   ]
  },
  {
   "cell_type": "code",
   "execution_count": 6,
   "metadata": {},
   "source": [
    "% MATLAB CLASSIX (MEX)\n",
    "tic\n",
    "[label, explain, out] = classix(data,0.4,4);\n",
    "fprintf('CLASSIX.M (MEX) runtime: %5.3f seconds - classes: %d - ARI: %3.2f\\n',...\n",
    "    toc,length(unique(label)),ari(labels,label))"
   ],
   "outputs": [
    {
     "data": {
      "text/plain": [
       "CLASSIX.M (MEX) runtime: 0.017 seconds - classes: 6 - ARI: 0.45"
      ]
     },
     "metadata": {},
     "execution_count":  6,
     "output_type": "execute_result"
    }
   ]
  },
  {
   "cell_type": "code",
   "execution_count": 7,
   "metadata": {},
   "source": [
    "% Python CLASSIX\n",
    "tic\n",
    "clx = py.classix.CLASSIX(radius=0.4, verbose=0, minPts=int32(4));\n",
    "clx = clx.fit(data);\n",
    "fprintf('CLASSIX.PY      runtime: %5.3f seconds - classes: %d - ARI: %3.2f\\n',...\n",
    "    toc,length(unique(double(clx.labels_))),ari(labels,clx.labels_))"
   ],
   "outputs": [
    {
     "data": {
      "text/plain": [
       "CLASSIX.PY      runtime: 0.047 seconds - classes: 6 - ARI: 0.45"
      ]
     },
     "metadata": {},
     "execution_count":  7,
     "output_type": "execute_result"
    }
   ]
  },
  {
   "cell_type": "markdown",
   "metadata": {},
   "source": [
    "## Ecoli dataset"
   ]
  },
  {
   "cell_type": "code",
   "execution_count": 8,
   "metadata": {},
   "source": [
    "ret = py.classix.loadData('Ecoli');\n",
    "data = double(ret{1});\n",
    "labels = double(ret{2});\n",
    "data = (data - mean(data))./std(data);\n",
    "\n",
    "% MATLAB CLASSIX\n",
    "tic\n",
    "[label, explain, out] = classix(data,0.3,4,no_mex);\n",
    "fprintf('CLASSIX.M       runtime: %5.3f seconds - classes: %d - ARI: %3.2f\\n',...\n",
    "    toc,length(unique(label)),ari(labels,label))"
   ],
   "outputs": [
    {
     "data": {
      "text/plain": [
       "CLASSIX.M       runtime: 0.015 seconds - classes: 7 - ARI: 0.56"
      ]
     },
     "metadata": {},
     "execution_count":  8,
     "output_type": "execute_result"
    }
   ]
  },
  {
   "cell_type": "code",
   "execution_count": 9,
   "metadata": {},
   "source": [
    "% MATLAB CLASSIX (MEX)\n",
    "tic\n",
    "[label, explain, out] = classix(data,0.3,4);\n",
    "fprintf('CLASSIX.M (MEX) runtime: %5.3f seconds - classes: %d - ARI: %3.2f\\n',...\n",
    "    toc,length(unique(label)),ari(labels,label))"
   ],
   "outputs": [
    {
     "data": {
      "text/plain": [
       "CLASSIX.M (MEX) runtime: 0.012 seconds - classes: 7 - ARI: 0.56"
      ]
     },
     "metadata": {},
     "execution_count":  9,
     "output_type": "execute_result"
    }
   ]
  },
  {
   "cell_type": "code",
   "execution_count": 10,
   "metadata": {},
   "source": [
    "% Python CLASSIX\n",
    "tic\n",
    "clx = py.classix.CLASSIX(radius=0.3, verbose=0, minPts=int32(4));\n",
    "clx = clx.fit(data);\n",
    "fprintf('CLASSIX.PY      runtime: %5.3f seconds - classes: %d - ARI: %3.2f\\n',...\n",
    "    toc,length(unique(double(clx.labels_))),ari(labels,clx.labels_))"
   ],
   "outputs": [
    {
     "data": {
      "text/plain": [
       "CLASSIX.PY      runtime: 0.028 seconds - classes: 7 - ARI: 0.56"
      ]
     },
     "metadata": {},
     "execution_count":  10,
     "output_type": "execute_result"
    }
   ]
  },
  {
   "cell_type": "markdown",
   "metadata": {},
   "source": [
    "## Glass dataset"
   ]
  },
  {
   "cell_type": "code",
   "execution_count": 11,
   "metadata": {},
   "source": [
    "ret = py.classix.loadData('Glass');\n",
    "data = double(ret{1});\n",
    "labels = double(ret{2});\n",
    "data = (data - mean(data))./std(data);\n",
    "\n",
    "% MATLAB CLASSIX\n",
    "tic\n",
    "[label, explain, out] = classix(data,0.725,1,no_mex);\n",
    "fprintf('CLASSIX.M       runtime: %5.3f seconds - classes: %d - ARI: %3.2f\\n',...\n",
    "    toc,length(unique(label)),ari(labels,label))"
   ],
   "outputs": [
    {
     "data": {
      "text/plain": [
       "CLASSIX.M       runtime: 0.009 seconds - classes: 26 - ARI: 0.23"
      ]
     },
     "metadata": {},
     "execution_count":  11,
     "output_type": "execute_result"
    }
   ]
  },
  {
   "cell_type": "code",
   "execution_count": 12,
   "metadata": {},
   "source": [
    "% MATLAB CLASSIX (MEX)\n",
    "tic\n",
    "[label, explain, out] = classix(data,0.725,1);\n",
    "fprintf('CLASSIX.M (MEX) runtime: %5.3f seconds - classes: %d - ARI: %3.2f\\n',...\n",
    "    toc,length(unique(label)),ari(labels,label))"
   ],
   "outputs": [
    {
     "data": {
      "text/plain": [
       "CLASSIX.M (MEX) runtime: 0.009 seconds - classes: 26 - ARI: 0.23"
      ]
     },
     "metadata": {},
     "execution_count":  12,
     "output_type": "execute_result"
    }
   ]
  },
  {
   "cell_type": "code",
   "execution_count": 13,
   "metadata": {},
   "source": [
    "% Python CLASSIX\n",
    "tic\n",
    "clx = py.classix.CLASSIX(radius=0.725, verbose=0, minPts=int32(1));\n",
    "clx = clx.fit(data);\n",
    "fprintf('CLASSIX.PY      runtime: %5.3f seconds - classes: %d - ARI: %3.2f\\n',...\n",
    "    toc,length(unique(double(clx.labels_))),ari(labels,clx.labels_))"
   ],
   "outputs": [
    {
     "data": {
      "text/plain": [
       "CLASSIX.PY      runtime: 0.013 seconds - classes: 26 - ARI: 0.23"
      ]
     },
     "metadata": {},
     "execution_count":  13,
     "output_type": "execute_result"
    }
   ]
  },
  {
   "cell_type": "markdown",
   "metadata": {},
   "source": [
    "## Iris dataset"
   ]
  },
  {
   "cell_type": "code",
   "execution_count": 14,
   "metadata": {},
   "source": [
    "ret = py.classix.loadData('Iris');\n",
    "data = double(ret{1});\n",
    "labels = double(ret{2});\n",
    "data = (data - mean(data))./std(data);\n",
    "\n",
    "% MATLAB CLASSIX\n",
    "tic\n",
    "[label, explain, out] = classix(data,0.225,4,no_mex);\n",
    "fprintf('CLASSIX.M       runtime: %5.3f seconds - classes: %d - ARI: %3.2f\\n',...\n",
    "    toc,length(unique(label)),ari(labels,label))"
   ],
   "outputs": [
    {
     "data": {
      "text/plain": [
       "CLASSIX.M       runtime: 0.008 seconds - classes: 4 - ARI: 0.56"
      ]
     },
     "metadata": {},
     "execution_count":  14,
     "output_type": "execute_result"
    }
   ]
  },
  {
   "cell_type": "code",
   "execution_count": 15,
   "metadata": {},
   "source": [
    "% MATLAB CLASSIX (MEX)\n",
    "tic\n",
    "[label, explain, out] = classix(data,0.225,4);\n",
    "fprintf('CLASSIX.M (MEX) runtime: %5.3f seconds - classes: %d - ARI: %3.2f\\n',...\n",
    "    toc,length(unique(label)),ari(labels,label))"
   ],
   "outputs": [
    {
     "data": {
      "text/plain": [
       "CLASSIX.M (MEX) runtime: 0.007 seconds - classes: 4 - ARI: 0.56"
      ]
     },
     "metadata": {},
     "execution_count":  15,
     "output_type": "execute_result"
    }
   ]
  },
  {
   "cell_type": "code",
   "execution_count": 16,
   "metadata": {},
   "source": [
    "% Python CLASSIX\n",
    "tic\n",
    "clx = py.classix.CLASSIX(radius=0.225, verbose=0, minPts=int32(4));\n",
    "clx = clx.fit(data);\n",
    "fprintf('CLASSIX.PY      runtime: %5.3f seconds - classes: %d - ARI: %3.2f\\n',...\n",
    "    toc,length(unique(double(clx.labels_))),ari(labels,clx.labels_))"
   ],
   "outputs": [
    {
     "data": {
      "text/plain": [
       "CLASSIX.PY      runtime: 0.010 seconds - classes: 4 - ARI: 0.56"
      ]
     },
     "metadata": {},
     "execution_count":  16,
     "output_type": "execute_result"
    }
   ]
  },
  {
   "cell_type": "markdown",
   "metadata": {},
   "source": [
    "## Seeds dataset"
   ]
  },
  {
   "cell_type": "code",
   "execution_count": 17,
   "metadata": {},
   "source": [
    "ret = py.classix.loadData('Seeds');\n",
    "data = double(ret{1});\n",
    "labels = double(ret{2});\n",
    "data = (data - mean(data))./std(data);\n",
    "\n",
    "% MATLAB CLASSIX\n",
    "tic\n",
    "[label, explain, out] = classix(data,0.15,9,no_mex);\n",
    "fprintf('CLASSIX.M       runtime: %5.3f seconds - classes: %d - ARI: %3.2f\\n',...\n",
    "    toc,length(unique(label)),ari(labels,label))"
   ],
   "outputs": [
    {
     "data": {
      "text/plain": [
       "CLASSIX.M       runtime: 0.013 seconds - classes: 3 - ARI: 0.70"
      ]
     },
     "metadata": {},
     "execution_count":  17,
     "output_type": "execute_result"
    }
   ]
  },
  {
   "cell_type": "code",
   "execution_count": 18,
   "metadata": {},
   "source": [
    "% MATLAB CLASSIX (MEX)\n",
    "tic\n",
    "[label, explain, out] = classix(data,0.15,9);\n",
    "fprintf('CLASSIX.M (MEX) runtime: %5.3f seconds - classes: %d - ARI: %3.2f\\n',...\n",
    "    toc,length(unique(label)),ari(labels,label))"
   ],
   "outputs": [
    {
     "data": {
      "text/plain": [
       "CLASSIX.M (MEX) runtime: 0.010 seconds - classes: 3 - ARI: 0.70"
      ]
     },
     "metadata": {},
     "execution_count":  18,
     "output_type": "execute_result"
    }
   ]
  },
  {
   "cell_type": "code",
   "execution_count": 19,
   "metadata": {},
   "source": [
    "% Python CLASSIX\n",
    "tic\n",
    "clx = py.classix.CLASSIX(radius=0.15, verbose=0, minPts=int32(9));\n",
    "clx = clx.fit(data);\n",
    "fprintf('CLASSIX.PY      runtime: %5.3f seconds - classes: %d - ARI: %3.2f\\n',...\n",
    "    toc,length(unique(double(clx.labels_))),ari(labels,clx.labels_))"
   ],
   "outputs": [
    {
     "data": {
      "text/plain": [
       "CLASSIX.PY      runtime: 0.029 seconds - classes: 3 - ARI: 0.70"
      ]
     },
     "metadata": {},
     "execution_count":  19,
     "output_type": "execute_result"
    }
   ]
  },
  {
   "cell_type": "markdown",
   "metadata": {},
   "source": [
    "## Wine dataset"
   ]
  },
  {
   "cell_type": "code",
   "execution_count": 20,
   "metadata": {},
   "source": [
    "ret = py.classix.loadData('Wine');\n",
    "data = double(ret{1});\n",
    "labels = double(ret{2});\n",
    "data = (data - mean(data))./std(data);\n",
    "\n",
    "% MATLAB CLASSIX\n",
    "tic\n",
    "[label, explain, out] = classix(data,0.425,4,no_mex);\n",
    "fprintf('CLASSIX.M       runtime: %5.3f seconds - classes: %d - ARI: %3.2f\\n',...\n",
    "    toc,length(unique(label)),ari(labels,label))"
   ],
   "outputs": [
    {
     "data": {
      "text/plain": [
       "CLASSIX.M       runtime: 0.011 seconds - classes: 2 - ARI: 0.47"
      ]
     },
     "metadata": {},
     "execution_count":  20,
     "output_type": "execute_result"
    }
   ]
  },
  {
   "cell_type": "code",
   "execution_count": 21,
   "metadata": {},
   "source": [
    "% MATLAB CLASSIX (MEX)\n",
    "tic\n",
    "[label, explain, out] = classix(data,0.425,4);\n",
    "fprintf('CLASSIX.M (MEX) runtime: %5.3f seconds - classes: %d - ARI: %3.2f\\n',...\n",
    "    toc,length(unique(label)),ari(labels,label))"
   ],
   "outputs": [
    {
     "data": {
      "text/plain": [
       "CLASSIX.M (MEX) runtime: 0.010 seconds - classes: 2 - ARI: 0.47"
      ]
     },
     "metadata": {},
     "execution_count":  21,
     "output_type": "execute_result"
    }
   ]
  },
  {
   "cell_type": "code",
   "execution_count": 22,
   "metadata": {},
   "source": [
    "% Python CLASSIX\n",
    "tic\n",
    "clx = py.classix.CLASSIX(radius=0.425, verbose=0, minPts=int32(4));\n",
    "clx = clx.fit(data);\n",
    "fprintf('CLASSIX.PY      runtime: %5.3f seconds - classes: %d - ARI: %3.2f\\n',...\n",
    "    toc,length(unique(double(clx.labels_))),ari(labels,clx.labels_))"
   ],
   "outputs": [
    {
     "data": {
      "text/plain": [
       "CLASSIX.PY      runtime: 0.020 seconds - classes: 2 - ARI: 0.47"
      ]
     },
     "metadata": {},
     "execution_count":  22,
     "output_type": "execute_result"
    }
   ]
  },
  {
   "cell_type": "markdown",
   "metadata": {},
   "source": [
    "## Phoneme dataset"
   ]
  },
  {
   "cell_type": "code",
   "execution_count": 23,
   "metadata": {},
   "source": [
    "ret = py.classix.loadData('Phoneme');\n",
    "data = double(ret{1});\n",
    "labels = double(ret{2});\n",
    "data = (data - mean(data))./std(data);\n",
    "\n",
    "% MATLAB CLASSIX\n",
    "tic\n",
    "[label, explain, out] = classix(data,0.445,8,no_mex);\n",
    "fprintf('CLASSIX.M       runtime: %5.3f seconds - classes: %d - ARI: %3.2f\\n',...\n",
    "    toc,length(unique(label)),ari(labels,label))"
   ],
   "outputs": [
    {
     "data": {
      "text/plain": [
       "CLASSIX.M       runtime: 20.861 seconds - classes: 4 - ARI: 0.76"
      ]
     },
     "metadata": {},
     "execution_count":  23,
     "output_type": "execute_result"
    }
   ]
  },
  {
   "cell_type": "code",
   "execution_count": 24,
   "metadata": {},
   "source": [
    "% MATLAB CLASSIX (MEX)\n",
    "tic\n",
    "[label, explain, out] = classix(data,0.445,8);\n",
    "fprintf('CLASSIX.M (MEX) runtime: %5.3f seconds - classes: %d - ARI: %3.2f\\n',...\n",
    "    toc,length(unique(label)),ari(labels,label))"
   ],
   "outputs": [
    {
     "data": {
      "text/plain": [
       "CLASSIX.M (MEX) runtime: 6.195 seconds - classes: 4 - ARI: 0.76"
      ]
     },
     "metadata": {},
     "execution_count":  24,
     "output_type": "execute_result"
    }
   ]
  },
  {
   "cell_type": "code",
   "execution_count": 25,
   "metadata": {},
   "source": [
    "% Python CLASSIX\n",
    "tic\n",
    "clx = py.classix.CLASSIX(radius=0.445, verbose=0, minPts=int32(8));\n",
    "clx = clx.fit(data);\n",
    "fprintf('CLASSIX.PY      runtime: %5.3f seconds - classes: %d - ARI: %3.2f\\n',...\n",
    "    toc,length(unique(double(clx.labels_))),ari(labels,clx.labels_))"
   ],
   "outputs": [
    {
     "data": {
      "text/plain": [
       "CLASSIX.PY      runtime: 5.369 seconds - classes: 4 - ARI: 0.76"
      ]
     },
     "metadata": {},
     "execution_count":  25,
     "output_type": "execute_result"
    }
   ]
  },
  {
   "cell_type": "markdown",
   "metadata": {},
   "source": [
    "## VDU Signals dataset"
   ]
  },
  {
   "cell_type": "code",
   "execution_count": 26,
   "metadata": {},
   "source": [
    "ret = py.classix.loadData('vdu_signals');\n",
    "data = double(ret);\n",
    "data = (data - mean(data))./std(data);\n",
    "\n",
    "% MATLAB CLASSIX\n",
    "tic\n",
    "[label, explain, out] = classix(data,0.3,1,no_mex);\n",
    "fprintf('CLASSIX.M       runtime: %5.3f seconds - classes: %d\\n',...\n",
    "    toc,length(unique(label)))"
   ],
   "outputs": [
    {
     "data": {
      "text/plain": [
       "CLASSIX.M       runtime: 1.028 seconds - classes: 11"
      ]
     },
     "metadata": {},
     "execution_count":  26,
     "output_type": "execute_result"
    }
   ]
  },
  {
   "cell_type": "code",
   "execution_count": 27,
   "metadata": {},
   "source": [
    "% MATLAB CLASSIX (MEX)\n",
    "tic\n",
    "[label, explain, out] = classix(data,0.3,1);\n",
    "fprintf('CLASSIX.M (MEX) runtime: %5.3f seconds - classes: %d\\n',...\n",
    "    toc,length(unique(label)))"
   ],
   "outputs": [
    {
     "data": {
      "text/plain": [
       "CLASSIX.M (MEX) runtime: 1.034 seconds - classes: 11"
      ]
     },
     "metadata": {},
     "execution_count":  27,
     "output_type": "execute_result"
    }
   ]
  },
  {
   "cell_type": "code",
   "execution_count": 28,
   "metadata": {},
   "source": [
    "% Python CLASSIX\n",
    "tic\n",
    "clx = py.classix.CLASSIX(radius=0.3, verbose=0, minPts=int32(1));\n",
    "clx = clx.fit(data);\n",
    "fprintf('CLASSIX.PY      runtime: %5.3f seconds - classes: %d\\n',...\n",
    "    toc,length(unique(double(clx.labels_))))"
   ],
   "outputs": [
    {
     "data": {
      "text/plain": [
       "CLASSIX.PY      runtime: 2.860 seconds - classes: 9"
      ]
     },
     "metadata": {},
     "execution_count":  28,
     "output_type": "execute_result"
    }
   ]
  },
  {
   "cell_type": "code",
   "execution_count": 29,
   "metadata": {},
   "source": [
    "fprintf('Agreement between M and PY: ARI %3.2f\\n',ari(label,clx.labels_))"
   ],
   "outputs": [
    {
     "data": {
      "text/plain": [
       "Agreement between M and PY: ARI 1.00"
      ]
     },
     "metadata": {},
     "execution_count":  29,
     "output_type": "execute_result"
    }
   ]
  },
  {
   "cell_type": "markdown",
   "metadata": {},
   "source": [
    "## Learn more about CLASSIX?\n",
    "\n",
    "CLASSIX is a fast and memory-efficient clustering algorithm which produces explainable results. If you'd like to learn more, here are a couple of online resources:\n",
    "\n",
    "-  arXiv paper: [https://arxiv.org/abs/2202.01456](https://arxiv.org/abs/2202.01456)\n",
    "-  Python code: [https://github.com/nla-group/classix](https://github.com/nla-group/classix)\n",
    "-  MATLAB code: [https://github.com/nla-group/classix-matlab/](https://github.com/nla-group/classix-matlab/)\n",
    "-  YouTube video: [https://www.youtube.com/watch?v=K94zgRjFEYo](https://www.youtube.com/watch?v=K94zgRjFEYo)\n",
    "## References\n",
    "\n",
    "[1] X. Chen and S. Güttel. \"Fast and explainable clustering based on sorting.\" arXiv: [https://arxiv.org/abs/2202.01456](https://arxiv.org/abs/2202.01456), 2022.\n",
    "\n",
    "\n",
    "[2] D. Dua and C. Graff. \"UCI machine learning repository.\" URL: [http://archive.ics.uci.edu/ml](http://archive.ics.uci.edu/ml), 2017.\n",
    "\n",
    ""
   ]
  }
 ],
 "metadata": {
  "kernelspec": {
   "display_name": "MATLAB (matlabkernel)",
   "language": "matlab",
   "name": "matlab"
  },
  "language_info": {
   "file_extension": ".m",
   "mimetype": "text/matlab",
   "name": "matlab",
   "nbconvert_exporter": "matlab",
   "pygments_lexer": "matlab",
   "version": "23.2.0.2380103"
  }
 },
 "nbformat": 4,
 "nbformat_minor": 4
}